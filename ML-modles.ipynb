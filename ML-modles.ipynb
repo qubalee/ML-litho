{
 "cells": [
  {
   "cell_type": "markdown",
   "id": "eeed61d6",
   "metadata": {},
   "source": [
    "<h1>Automatic Identification of Lithology using Machine Learning Approach</h1>\n",
    "\n",
    "**Team 4 (Ahmed H. Gowida, Mahmoud H. Desouky, Abdullah M. Alqubalee)**\n",
    "\n",
    "<i>Email Addresses:\n",
    "AHG: g201708730@kfupm.edu.sa\n",
    "MHD: g201706310@kfupm.edu.sa\n",
    "AMA: g201304210@kfupm.edu.sa<i>\n",
    "\n",
    "\n",
    "\n",
    "\n",
    "**Part two : ML-Modles**"
   ]
  },
  {
   "cell_type": "markdown",
   "id": "424e01d7",
   "metadata": {},
   "source": [
    "# Overview\n",
    "\n",
    "## The parameters categories:\n",
    "\n",
    "- **Booster** Parameters\n",
    "        - eta: learining rate which makes the model more robust by shrinking the weight on each step.\n",
    "        - alpha/lambda: regularization parameters like LASSO and Ridge\n",
    "        - gamma: split occurs only when there is a positive reduction in loss fxn\n",
    "        - min_child_weight\n",
    "        - max_depth\n",
    "        - max_leaf_nodes\n",
    "        - max_delta_step\n",
    "        - subsample: random fraction of observations for each tree\n",
    "        - colsample_bytree/colsample_bylevel: fraction of features for each tree/split\n",
    "        - scale_pos_weight: >0 should be used for faster convergence in high class imbalance cases.\n",
    "        \n",
    "- Learning Parameters\n",
    "        - objective\n",
    "            multi:softmax –multiclass classification using the softmax objective.\n",
    "            multi:softprob –same as softmax, but returns predicted probability.\n",
    "        - eval_metric\n",
    "            merror – Multiclass classification error rate\n",
    "        - seed\n",
    "        \n",
    "For the full list of hyperparameters, see:\n",
    "\n",
    "https://scikit-learn.org/stable/modules/generated/sklearn.ensemble.GradientBoostingClassifier.html\n",
    "\n",
    "## The approach for tuning of the parameters\n",
    "\n",
    "- high eta and look for the optimum tree no.\n",
    "- tune the tree parameters (max_depth, min_child_weight, gamma, subsample, colsample_bytree)\n",
    "- adjust lambda and alpha for a better porformance and less complex model"
   ]
  },
  {
   "cell_type": "code",
   "execution_count": 3,
   "id": "79713e64",
   "metadata": {},
   "outputs": [
    {
     "ename": "ModuleNotFoundError",
     "evalue": "No module named 'xgboost'",
     "output_type": "error",
     "traceback": [
      "\u001b[1;31m---------------------------------------------------------------------------\u001b[0m",
      "\u001b[1;31mModuleNotFoundError\u001b[0m                       Traceback (most recent call last)",
      "\u001b[1;32m<ipython-input-3-1704e6ef5936>\u001b[0m in \u001b[0;36m<module>\u001b[1;34m\u001b[0m\n\u001b[0;32m      2\u001b[0m \u001b[1;32mimport\u001b[0m \u001b[0mpandas\u001b[0m \u001b[1;32mas\u001b[0m \u001b[0mpd\u001b[0m\u001b[1;33m\u001b[0m\u001b[1;33m\u001b[0m\u001b[0m\n\u001b[0;32m      3\u001b[0m \u001b[1;32mimport\u001b[0m \u001b[0mnumpy\u001b[0m \u001b[1;32mas\u001b[0m \u001b[0mnp\u001b[0m\u001b[1;33m\u001b[0m\u001b[1;33m\u001b[0m\u001b[0m\n\u001b[1;32m----> 4\u001b[1;33m \u001b[1;32mimport\u001b[0m \u001b[0mxgboost\u001b[0m \u001b[1;32mas\u001b[0m \u001b[0mxgb\u001b[0m\u001b[1;33m\u001b[0m\u001b[1;33m\u001b[0m\u001b[0m\n\u001b[0m\u001b[0;32m      5\u001b[0m \u001b[1;32mfrom\u001b[0m \u001b[0msklearn\u001b[0m\u001b[1;33m.\u001b[0m\u001b[0mmodel_selection\u001b[0m \u001b[1;32mimport\u001b[0m \u001b[0mtrain_test_split\u001b[0m\u001b[1;33m,\u001b[0m \u001b[0mStratifiedKFold\u001b[0m\u001b[1;33m,\u001b[0m \u001b[0mGridSearchCV\u001b[0m\u001b[1;33m,\u001b[0m \u001b[0mcross_validate\u001b[0m\u001b[1;33m\u001b[0m\u001b[1;33m\u001b[0m\u001b[0m\n\u001b[0;32m      6\u001b[0m \u001b[1;32mfrom\u001b[0m \u001b[0mxgboost\u001b[0m\u001b[1;33m.\u001b[0m\u001b[0msklearn\u001b[0m \u001b[1;32mimport\u001b[0m \u001b[0mXGBClassifier\u001b[0m\u001b[1;33m\u001b[0m\u001b[1;33m\u001b[0m\u001b[0m\n",
      "\u001b[1;31mModuleNotFoundError\u001b[0m: No module named 'xgboost'"
     ]
    }
   ],
   "source": [
    "# import the needed packages\n",
    "import pandas as pd\n",
    "import numpy as np\n",
    "import xgboost as xgb\n",
    "from sklearn.model_selection import train_test_split, StratifiedKFold, GridSearchCV, cross_validate\n",
    "from xgboost.sklearn import XGBClassifier\n",
    "from sklearn import metrics\n",
    "import matplotlib.pyplot as plt\n",
    "import seaborn as sns\n",
    "\n",
    "data = pd.read_csv('CompiledData.xlsx', index_col=0)"
   ]
  },
  {
   "cell_type": "code",
   "execution_count": 73,
   "id": "cee97bd7",
   "metadata": {},
   "outputs": [],
   "source": [
    "#change the labels to be compatible for the softmax num_class parameters\n",
    "data.LithID.replace({1:0, 2:1, 3:2, 4:3, 5:4, 6:5}, inplace = True)"
   ]
  },
  {
   "cell_type": "code",
   "execution_count": 74,
   "id": "89754c5f",
   "metadata": {},
   "outputs": [],
   "source": [
    "# Create arrays for the features and the target: X, y\n",
    "X,y = data[['PHI', 'GR', 'RW', 'CALI']], data[['LithID']]\n",
    "x_train, x_test, y_train, y_test = train_test_split(X, y, test_size = 0.15, shuffle= True, random_state=42, stratify= y)\n",
    "#y.value_counts()"
   ]
  },
  {
   "cell_type": "code",
   "execution_count": 75,
   "id": "dc24be4a",
   "metadata": {},
   "outputs": [
    {
     "name": "stdout",
     "output_type": "stream",
     "text": [
      "Fitting 5 folds for each of 480 candidates, totalling 2400 fits\n",
      "Best parameters found:  {'colsample_bytree': 0.75, 'learning_rate': 0.1, 'max_depth': 6, 'n_estimators': 80, 'subsample': 1}\n",
      "highest accuracy found:  0.949199105145414\n"
     ]
    }
   ],
   "source": [
    "# Create the DMatrix from X and y: lithology_dmatrix\n",
    "lithology_dmatrix = xgb.DMatrix(data=x_train, label=y_train)\n",
    "\n",
    "# create a dictionary with the parameters to be tuned\n",
    "gb_param_grid = {\n",
    "    'n_estimators': list(range(10, 110, 10)),\n",
    "    'max_depth': np.arange(2, 8),\n",
    "    'subsample':[.75,1],\n",
    "    'colsample_bytree':[.75,1],\n",
    "    'learning_rate' : [0.1, 1]\n",
    "}\n",
    "\n",
    "# Instantiate the gradient boost classifier: gb\n",
    "gb = xgb.XGBClassifier(objective='multi:softmax', eval_metric = 'mlogloss', random_state=42, use_label_encoder=False)\n",
    "\n",
    "kfold = StratifiedKFold(n_splits=5, shuffle= True, random_state=42)\n",
    "\n",
    "# Perform cross-validation: cv_results\n",
    "grid_search = GridSearchCV(param_grid= gb_param_grid, \n",
    "                                         estimator= gb, scoring= 'accuracy', cv= kfold, verbose= 1)\n",
    "\n",
    "# Fit to the train data\n",
    "grid_search.fit(x_train,y_train)\n",
    "\n",
    "# Print the best parameters and highest accuracy\n",
    "print(\"Best parameters found: \", grid_search.best_params_)\n",
    "print(\"highest accuracy found: \", grid_search.best_score_)"
   ]
  },
  {
   "cell_type": "code",
   "execution_count": 79,
   "id": "b8a667cb",
   "metadata": {},
   "outputs": [],
   "source": [
    "best_gb = xgb.XGBClassifier(objective='multi:softmax', eval_metric = 'mlogloss', random_state=42,\n",
    "         colsample_bytree = grid_search.best_params_['colsample_bytree'], \n",
    "         learning_rate = grid_search.best_params_['learning_rate'], \n",
    "         max_depth = grid_search.best_params_['max_depth'], \n",
    "         subsample = grid_search.best_params_['subsample'], \n",
    "         n_estimators = grid_search.best_params_['n_estimators'])\n",
    "\n",
    "#Fit the final model\n",
    "best_gb.fit(x_train, y_train)\n",
    "\n",
    "pred_test = best_gb.predict(x_test)"
   ]
  },
  {
   "cell_type": "code",
   "execution_count": 90,
   "id": "00e71698",
   "metadata": {},
   "outputs": [
    {
     "name": "stdout",
     "output_type": "stream",
     "text": [
      "Confusion matrix (Test): \n",
      "\n",
      "[[11.27819549  0.          0.          0.          0.          0.        ]\n",
      " [ 0.         12.78195489  0.          0.7518797   0.          0.7518797 ]\n",
      " [ 0.7518797   1.5037594   0.7518797   0.          0.          0.        ]\n",
      " [ 0.          1.5037594   0.         22.55639098  0.          0.        ]\n",
      " [ 0.          0.          0.          0.         45.86466165  0.        ]\n",
      " [ 0.          0.          0.          0.7518797   0.          0.7518797 ]]\n"
     ]
    }
   ],
   "source": [
    "print(\"Confusion matrix (Test): \\n\")\n",
    "cm_gb = metrics.confusion_matrix(y_test, pred_test)/len(y_test)*100\n",
    "print(cm_gb)\n",
    "#work on getting a more polished confusion matrix"
   ]
  },
  {
   "cell_type": "code",
   "execution_count": 254,
   "id": "adc161a3",
   "metadata": {},
   "outputs": [
    {
     "name": "stdout",
     "output_type": "stream",
     "text": [
      "[1.         0.89473684 0.25       0.9375     1.         0.5       ]\n",
      "[0.9375     0.80952381 1.         0.9375     1.         0.5       ]\n"
     ]
    }
   ],
   "source": [
    "recall_gb = np.diag(cm_gb) / np.sum(cm_gb, axis = 1)\n",
    "precision_gb = np.diag(cm_gb) / np.sum(cm_gb, axis = 0)\n",
    "print(recall_gb)\n",
    "print(precision_gb)"
   ]
  },
  {
   "cell_type": "code",
   "execution_count": 278,
   "id": "5ebae777",
   "metadata": {},
   "outputs": [
    {
     "data": {
      "text/plain": [
       "(0.851846735169365, 0.911957461758824)"
      ]
     },
     "execution_count": 278,
     "metadata": {},
     "output_type": "execute_result"
    }
   ],
   "source": [
    "# weight of each lithology\n",
    "weights= data['LithID'].value_counts()/data.shape[0]\n",
    "weights.sort_index()\n",
    "\n",
    "# weighted average of the precision and the recall\n",
    "recall_gb_w_avg= np.average(recall_gb, weights= weights)\n",
    "precision_gb_w_avg= np.average(precision_gb, weights= weights)\n",
    "recall_gb_w_avg, precision_gb_w_avg"
   ]
  },
  {
   "cell_type": "markdown",
   "id": "9fd43d77",
   "metadata": {},
   "source": [
    "## The parameters categories:\n",
    "\n",
    "- **Bagging** Parameters\n",
    "        - max_depth\n",
    "        - max_features: random fraction of observations for each tree\n",
    "        \n",
    "For the full list of hyperparameters, see:\n",
    "\n",
    "https://scikit-learn.org/stable/modules/generated/sklearn.ensemble.BaggingClassifier.html"
   ]
  },
  {
   "cell_type": "code",
   "execution_count": 102,
   "id": "7a3f21b5",
   "metadata": {},
   "outputs": [
    {
     "data": {
      "text/plain": [
       "dict_keys(['bootstrap', 'ccp_alpha', 'class_weight', 'criterion', 'max_depth', 'max_features', 'max_leaf_nodes', 'max_samples', 'min_impurity_decrease', 'min_samples_leaf', 'min_samples_split', 'min_weight_fraction_leaf', 'n_estimators', 'n_jobs', 'oob_score', 'random_state', 'verbose', 'warm_start'])"
      ]
     },
     "execution_count": 102,
     "metadata": {},
     "output_type": "execute_result"
    }
   ],
   "source": [
    "rf.get_params().keys()"
   ]
  },
  {
   "cell_type": "code",
   "execution_count": 115,
   "id": "f2681547",
   "metadata": {
    "scrolled": false
   },
   "outputs": [
    {
     "name": "stdout",
     "output_type": "stream",
     "text": [
      "Fitting 5 folds for each of 840 candidates, totalling 4200 fits\n",
      "Best parameters found:  {'bootstrap': False, 'criterion': 'gini', 'max_depth': 10, 'max_features': 'auto', 'min_samples_leaf': 2, 'n_estimators': 50}\n",
      "highest accuracy found:  0.939910514541387\n"
     ]
    }
   ],
   "source": [
    "from sklearn.ensemble import RandomForestClassifier\n",
    "\n",
    "gb_param_grid = {\n",
    "    'n_estimators': list(range(10, 80, 10)),# Number of trees in random forest\n",
    "    'max_depth': list(range(10, 60, 10)),# Maximum number of levels in tree\n",
    "    #'min_samples_split ':[4, 5, 10],# Minimum number of samples required to split a node\n",
    "    'min_samples_leaf':[2, 3, 4],# Minimum number of samples required at each leaf node\n",
    "    'max_features':['auto', 'sqrt'],# Number of features to consider at every split\n",
    "    'bootstrap': [True, False],# Method of selecting samples for training each tree\n",
    "    'criterion': [\"gini\", \"entropy\"]\n",
    "}\n",
    "\n",
    "# Instantiate the classifier: rf\n",
    "rf = RandomForestClassifier(random_state=42)\n",
    "\n",
    "grid_search = GridSearchCV(estimator=rf, param_grid=gb_param_grid, n_jobs=-1, cv= kfold, verbose= 1, scoring='accuracy',error_score=0)\n",
    "\n",
    "# Fit to the train data\n",
    "grid_search.fit(x_train,y_train.values.ravel())\n",
    "\n",
    "# Print the best parameters and highest accuracy\n",
    "print(\"Best parameters found: \", grid_search.best_params_)\n",
    "print(\"highest accuracy found: \", grid_search.best_score_)"
   ]
  },
  {
   "cell_type": "code",
   "execution_count": 256,
   "id": "74b83109",
   "metadata": {},
   "outputs": [],
   "source": [
    "best_rf = RandomForestClassifier(random_state=42,\n",
    "         min_samples_leaf = grid_search.best_params_['min_samples_leaf'],\n",
    "         max_depth = grid_search.best_params_['max_depth'], \n",
    "         n_estimators = grid_search.best_params_['n_estimators'],\n",
    "         bootstrap = False,\n",
    "         criterion = 'gini',\n",
    "         max_features = 'auto')\n",
    "\n",
    "#Fit the final model\n",
    "best_rf.fit(x_train, y_train.values.ravel())\n",
    "\n",
    "pred_test_rf = best_rf.predict(x_test)"
   ]
  },
  {
   "cell_type": "code",
   "execution_count": 120,
   "id": "e093e304",
   "metadata": {},
   "outputs": [
    {
     "name": "stdout",
     "output_type": "stream",
     "text": [
      "Confusion matrix (Test): \n",
      "\n",
      "[[10.52631579  0.7518797   0.          0.          0.          0.        ]\n",
      " [ 0.7518797  12.78195489  0.          0.7518797   0.          0.        ]\n",
      " [ 0.7518797   1.5037594   0.7518797   0.          0.          0.        ]\n",
      " [ 0.          1.5037594   0.         22.55639098  0.          0.        ]\n",
      " [ 0.          0.          0.          0.         45.86466165  0.        ]\n",
      " [ 0.          0.          0.          0.7518797   0.          0.7518797 ]]\n"
     ]
    }
   ],
   "source": [
    "print(\"Confusion matrix (Test): \\n\")\n",
    "cm_rf = metrics.confusion_matrix(y_test, pred_test)/len(y_test)*100\n",
    "print(cm_rf)\n",
    "#work on getting a more polished confusion matrix"
   ]
  },
  {
   "cell_type": "code",
   "execution_count": 275,
   "id": "d8575618",
   "metadata": {},
   "outputs": [
    {
     "name": "stdout",
     "output_type": "stream",
     "text": [
      "0.7525950292397661\n",
      "0.9308712121212123\n"
     ]
    }
   ],
   "source": [
    "recall_rf = np.diag(cm_rf) / np.sum(cm_rf, axis = 1)\n",
    "precision_rf = np.diag(cm_rf) / np.sum(cm_rf, axis = 0)\n",
    "print(recall_rf.mean())\n",
    "print(precision_rf.mean())"
   ]
  },
  {
   "cell_type": "code",
   "execution_count": 276,
   "id": "1f5f839e",
   "metadata": {},
   "outputs": [
    {
     "data": {
      "text/plain": [
       "(0.8215024294561604, 0.8815073263853059)"
      ]
     },
     "execution_count": 276,
     "metadata": {},
     "output_type": "execute_result"
    }
   ],
   "source": [
    "# weighted average of the precision and the recall\n",
    "recall_rf_w_avg= np.average(recall_rf, weights= weights)\n",
    "precision_rf_w_avg= np.average(precision_rf, weights= weights)\n",
    "recall_rf_w_avg, precision_rf_w_avg"
   ]
  },
  {
   "cell_type": "code",
   "execution_count": 40,
   "id": "975fe6a6",
   "metadata": {},
   "outputs": [
    {
     "name": "stdout",
     "output_type": "stream",
     "text": [
      "[0.93333333 0.89473684 0.25       0.9375     1.         0.5       ]\n",
      "[0.875      0.77272727 1.         0.9375     1.         1.        ]\n"
     ]
    }
   ],
   "source": [
    "recall_rf = np.diag(cm_rf) / np.sum(cm_rf, axis = 1)\n",
    "precision_rf = np.diag(cm_rf) / np.sum(cm_rf, axis = 0)\n",
    "print(recall_rf)\n",
    "print(precision_rf)"
   ]
  },
  {
   "cell_type": "code",
   "execution_count": 253,
   "id": "74c36289",
   "metadata": {},
   "outputs": [
    {
     "data": {
      "image/png": "[encoded data removed]",
      "text/plain": [
       "<Figure size 720x720 with 1 Axes>"
      ]
     },
     "metadata": {},
     "output_type": "display_data"
    }
   ],
   "source": [
    "# Plot confusion matrix in a beautiful manner\n",
    "\n",
    "Lith= ['Sand', 'ShalySand', 'SandyShale', 'Shale', 'Coal', 'CementedSand']\n",
    "cmap = sns.cubehelix_palette(light=1, as_cmap=True)\n",
    "\n",
    "fig = plt.figure(num=None, figsize=(9, 9), dpi=80, facecolor='w', edgecolor='k')\n",
    "ax = plt.axes()\n",
    "\n",
    "sns.heatmap(cm_gb, annot=True, vmin=0.0, vmax=100.0,\n",
    "                  xticklabels = Lith, yticklabels = Lith,\n",
    "                  fmt='.2f', cmap=cmap, cbar_kws={\"shrink\": .82},\n",
    "                  linewidths=0.1, linecolor='black', cbar=False);\n",
    "\n",
    "plt.yticks(rotation=0)\n",
    "ax.set_title('Extreme Gradient Boost', fontsize = 20)\n",
    "plt.xlabel('Actual', fontsize = 18) # x-axis label with fontsize 15\n",
    "#plt.ylabel('Predicted', fontsize = 18) # y-axis label with fontsize 15\n",
    "\n",
    "plt.show()\n",
    "fig.savefig('cm_gb.png')"
   ]
  },
  {
   "cell_type": "code",
   "execution_count": 217,
   "id": "de2227c8",
   "metadata": {},
   "outputs": [
    {
     "data": {
      "image/png": "[encoded data removed]",
      "text/plain": [
       "<Figure size 720x720 with 1 Axes>"
      ]
     },
     "metadata": {},
     "output_type": "display_data"
    }
   ],
   "source": [
    "fig = plt.figure(num=None, figsize=(9, 9), dpi=80, facecolor='w', edgecolor='k')\n",
    "ax = plt.axes()\n",
    "\n",
    "sns.heatmap(cm_rf, annot=True, vmin=0.0, vmax=100.0,\n",
    "                  xticklabels = Lith, yticklabels=False,\n",
    "                  fmt='.2f', cmap=cmap, cbar_kws={\"shrink\": .82},\n",
    "                  linewidths=0.1, linecolor='black', cbar=False);\n",
    "\n",
    "plt.yticks(rotation=0)\n",
    "ax.set_title('Random Forest', fontsize = 20)\n",
    "plt.xlabel('Actual', fontsize = 18) # x-axis label with fontsize 15\n",
    "\n",
    "plt.show()\n",
    "fig.savefig('cm_rf.png')"
   ]
  },
  {
   "cell_type": "code",
   "execution_count": 282,
   "id": "86fb5909",
   "metadata": {},
   "outputs": [
    {
     "name": "stdout",
     "output_type": "stream",
     "text": [
      "         xgb         rf\n",
      "0  11.278195  10.526316\n",
      "1  12.781955  12.781955\n",
      "2   0.751880   0.751880\n",
      "3  22.556391  22.556391\n",
      "4  45.864662  45.864662\n",
      "5   0.751880   0.751880\n"
     ]
    }
   ],
   "source": [
    "# creating the dataframe\n",
    "df = pd.DataFrame(data = {'xgb':np.diag(cm_gb), 'rf':np.diag(cm_rf)})\n",
    "# displaying the dataframe\n",
    "print(df)"
   ]
  },
  {
   "cell_type": "code",
   "execution_count": 292,
   "id": "8006a2af",
   "metadata": {},
   "outputs": [
    {
     "name": "stdout",
     "output_type": "stream",
     "text": [
      "dof=5\n",
      "[[10.9460398  10.85847148]\n",
      " [12.83328804 12.73062174]\n",
      " [ 0.7548993   0.7488601 ]\n",
      " [22.64697889 22.46580306]\n",
      " [46.04885708 45.68046623]\n",
      " [ 0.7548993   0.7488601 ]]\n",
      "probability=0.950, critical=11.070, stat=0.023\n",
      "Independent (fail to reject H0)\n",
      "significance=0.050, p=1.000\n",
      "Independent (fail to reject H0)\n"
     ]
    }
   ],
   "source": [
    "# chi-squared test with similar proportions\n",
    "from scipy.stats import chi2_contingency\n",
    "from scipy.stats import chi2\n",
    "\n",
    "#chi_square test for the accuracies\n",
    "stat, p, dof, expected = chi2_contingency(df)\n",
    "print('dof=%d' % dof)\n",
    "print(expected)\n",
    "# interpret test-statistic\n",
    "prob = 0.95\n",
    "critical = chi2.ppf(prob, dof)\n",
    "print('probability=%.3f, critical=%.3f, stat=%.3f' % (prob, critical, stat))\n",
    "if abs(stat) >= critical:\n",
    "    print('Dependent (reject H0)')\n",
    "else:\n",
    "    print('Independent (fail to reject H0)')\n",
    "# interpret p-value\n",
    "alpha = 1.0 - prob\n",
    "print('significance=%.3f, p=%.3f' % (alpha, p))\n",
    "if p <= alpha:\n",
    "    print('Dependent (reject H0)')\n",
    "else:\n",
    "    print('Independent (fail to reject H0)')\n",
    "\n",
    "#https://machinelearningmastery.com/chi-squared-test-for-machine-learning/"
   ]
  }
 ],
 "metadata": {
  "kernelspec": {
   "display_name": "Python 3",
   "language": "python",
   "name": "python3"
  },
  "language_info": {
   "codemirror_mode": {
    "name": "ipython",
    "version": 3
   },
   "file_extension": ".py",
   "mimetype": "text/x-python",
   "name": "python",
   "nbconvert_exporter": "python",
   "pygments_lexer": "ipython3",
   "version": "3.8.8"
  }
 },
 "nbformat": 4,
 "nbformat_minor": 5
}
